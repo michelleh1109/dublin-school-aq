{
 "cells": [
  {
   "cell_type": "code",
   "execution_count": 1,
   "id": "774aa6f5",
   "metadata": {},
   "outputs": [],
   "source": [
    "import numpy as np\n",
    "import matplotlib.pyplot as plt\n",
    "import matplotlib.dates as mdates\n",
    "import pandas as pd\n",
    "from scipy import stats"
   ]
  },
  {
   "cell_type": "code",
   "execution_count": null,
   "id": "dd08326c",
   "metadata": {},
   "outputs": [],
   "source": [
    "def clean_epa(epa_raw):\n",
    "    \"\"\"\n",
    "    Cleans EPA monitoring station data\n",
    "    \"\"\"\n",
    "    epa = epa_raw.copy()\n",
    "    epa.rename(columns={\"Date and Time\": \"Datetime\", \"NO<sub>2</sub>\": \"NO2\", \"O<sub>3</sub>\":\"O3\", \n",
    "              \"PM<sub>10</sub>\": \"PM10\", \"PM<sub>2.5</sub>\":\"PM2.5\"}, inplace=True)\n",
    "    epa.Datetime = pd.to_datetime(epa.Datetime)\n",
    "    epa.set_index('Datetime', inplace=True)\n",
    "    epa = epa[(epa.index.minute == 0)]\n",
    "    \n",
    "    return epa"
   ]
  },
  {
   "cell_type": "code",
   "execution_count": null,
   "id": "0ae41562",
   "metadata": {},
   "outputs": [],
   "source": [
    "def clean(raw, t1=\"\", t2=\"\"):\n",
    "    \"\"\"\n",
    "    Cleans monitor data, selects time period of interest\n",
    "    raw: raw oaqm data\n",
    "    t1: date and time start, datetime format e.g. \"2023-11-21 14:00:00\"\n",
    "    t2: date and time end\n",
    "    Returns: pd dataframe\n",
    "    \"\"\"\n",
    "    df = raw.rename(columns={\"date\": \"Datetime\", \"PM1_0\": \"PM1\", \"PM2_5\":\"PM2.5\"})\n",
    "    df.drop(columns=['timestamp'], inplace=True)\n",
    "    df.Datetime = pd.to_datetime(df.Datetime.str[:18])\n",
    "    df.set_index('Datetime', inplace=True)\n",
    "    \n",
    "    if (t1 != \"\") and (t2 !=\"\"):\n",
    "        try: \n",
    "            # setting time period of interest\n",
    "            vecdateall = df.index\n",
    "            \n",
    "            indt1 = np.where(vecdateall==t1)[0][0]\n",
    "            indt2 = np.where(vecdateall==t2)[0][0]\n",
    "\n",
    "            df = df.iloc[indt1:indt2+1,:]\n",
    "        except: \n",
    "            print(f\"Subset date range failed. Start or end date out of bounds in clean\\n t1:{t1} and t2:{t2}\")\n",
    "    \n",
    "    return df"
   ]
  },
  {
   "cell_type": "code",
   "execution_count": 3,
   "id": "4769fa6e",
   "metadata": {},
   "outputs": [],
   "source": [
    "def linreg(calib, epa, pollutant, plot=False):\n",
    "    \"\"\"\n",
    "    Linear regression to calibrate either NO2, PM10, and PM2.5 data for a monitor using pearse station data. \n",
    "    pollutant: string. PM10, or PM2.5 to calibrate\n",
    "    calib: calibration data from oaqm sensor\n",
    "    epa: pearse st epa station data\n",
    "    \"\"\"\n",
    "    tmp = pd.merge(calib, epa, how='inner', left_index=True, right_index=True)\n",
    "    x = f'{pollutant}_x'\n",
    "    y = f'{pollutant}_y'\n",
    "    tmp = tmp[[x,y]].dropna()\n",
    "    res = stats.linregress(tmp[x], tmp[y])\n",
    "    \n",
    "    if plot:\n",
    "        fig, (ax1, ax2) = plt.subplots(1, 2, figsize=(10,3))\n",
    "        ax1.plot(tmp[x], tmp[y], 'o', label='original data')\n",
    "        ax1.plot(tmp[x], res.intercept + res.slope*tmp[x], 'r', label='fitted line')\n",
    "        ax1.set_title(f\"{pollutant} Linear Regression Low-Cost Sensor vs Station\")\n",
    "        ax1.plot([], [], ' ', label=f\"P-value: {res.pvalue:.3f}\\nR-Value:{res.rvalue:.3f}\")\n",
    "        ax1.set_xlabel(f\"Low-Cost Sensor {pollutant} ug/m3\")\n",
    "        ax1.set_ylabel(f\"Station {pollutant} ug/m3\")\n",
    "        ax1.legend()\n",
    "\n",
    "        ax2.plot(tmp.index, tmp[x], label='EPA data')\n",
    "        ax2.plot(tmp.index, tmp[y], label='OAQM data')\n",
    "        ax2.set_title(f\"{pollutant} Time-Series Plot Low-Cost Sensor vs Station\")\n",
    "        ax2.set_ylabel(f\"{pollutant} ug/m3\")\n",
    "        ax2.set_xlabel(\"Time\")\n",
    "        \n",
    "        # Format the x-axis of the time series plot\n",
    "        ax2.xaxis.set_major_locator(mdates.DayLocator(interval=1))\n",
    "        ax2.xaxis.set_major_formatter(mdates.DateFormatter('%y-%m-%d'))\n",
    "        ax2.tick_params(axis='x', rotation=320)\n",
    "        \n",
    "        ax2.legend()\n",
    "\n",
    "        plt.tight_layout()  # Adjust layout for better fit\n",
    "        plt.show()\n",
    "    \n",
    "    return res"
   ]
  },
  {
   "cell_type": "code",
   "execution_count": null,
   "id": "e7f48196",
   "metadata": {},
   "outputs": [],
   "source": [
    "def calibrate(raw, calib_raw, epa_raw, t1, t2, plot=False):\n",
    "    \"\"\"\n",
    "    Calibrates OAQM dataset for PM2.5 and PM10.\n",
    "    Data: sensor data during collection period\n",
    "    calib: hourly calibration data during calibration period\n",
    "    epa: epa station data during calibration period\n",
    "    t1: date and time start, datetime format e.g. \"2023-11-21 14:00:00\"\n",
    "    t2: date and time end\n",
    "    \n",
    "    Returns: original dataset with additional calibrated columns.\n",
    "    \"\"\"\n",
    "    df = raw.copy()\n",
    "    df = clean(df, t1, t2)\n",
    "    calib = clean(calib_raw)\n",
    "    epa = clean_epa(epa_raw)\n",
    "    \n",
    "    pollutants = ['PM2.5', 'PM10']\n",
    "    \n",
    "    for p in pollutants:\n",
    "        res = linreg(calib, epa, p, plot=plot)\n",
    "        col = f'calib_{p}'\n",
    "        df[col] = res.intercept + res.slope*df[p] # calibrating values on linreg, because epa[p] at that time does not exist ofccccc\n",
    "        \n",
    "    return df"
   ]
  },
  {
   "cell_type": "code",
   "execution_count": null,
   "id": "bf2e05ba",
   "metadata": {},
   "outputs": [],
   "source": [
    "# #testing\n",
    "# calib_35 = pd.read_csv(\"hourly-OAQM_35_2023-10-19_2023-10-30.csv\")\n",
    "# raw_st35 = pd.read_csv(\"hourly-OAQM_35_2023-10-31_2023-11-20.csv\")\n",
    "# pearse_raw = pd.read_csv(\"pearse_epa_2023-10-19_2023-10-30.csv\")"
   ]
  },
  {
   "cell_type": "code",
   "execution_count": null,
   "id": "94bdb7d5",
   "metadata": {},
   "outputs": [],
   "source": [
    "# setting date and time of study period\n",
    "# t1 = \"2023-10-31 00:00:00\" # hour for analysis\n",
    "# t2 = \"2023-11-21 00:00:00\" # last hour for analysis"
   ]
  },
  {
   "cell_type": "code",
   "execution_count": null,
   "id": "e003313d",
   "metadata": {
    "scrolled": false
   },
   "outputs": [],
   "source": [
    "#calibrate(raw_st35, calib_35, pearse_raw, t1, t2, plot=True)"
   ]
  },
  {
   "cell_type": "code",
   "execution_count": null,
   "id": "906bb2f7",
   "metadata": {},
   "outputs": [],
   "source": []
  }
 ],
 "metadata": {
  "kernelspec": {
   "display_name": "Python 3 (ipykernel)",
   "language": "python",
   "name": "python3"
  },
  "language_info": {
   "codemirror_mode": {
    "name": "ipython",
    "version": 3
   },
   "file_extension": ".py",
   "mimetype": "text/x-python",
   "name": "python",
   "nbconvert_exporter": "python",
   "pygments_lexer": "ipython3",
   "version": "3.9.7"
  }
 },
 "nbformat": 4,
 "nbformat_minor": 5
}
